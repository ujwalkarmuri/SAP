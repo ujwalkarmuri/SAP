{
 "cells": [
  {
   "cell_type": "code",
   "execution_count": 3,
   "id": "aaf370b0",
   "metadata": {},
   "outputs": [
    {
     "name": "stderr",
     "output_type": "stream",
     "text": [
      "C:\\Users\\HI\\AppData\\Local\\Temp\\ipykernel_24996\\3500606899.py:19: DeprecationWarning: elementwise comparison failed; this will raise an error in the future.\n",
      "  if faces==():\n"
     ]
    }
   ],
   "source": [
    "# import the necessary packages\n",
    "import cv2\n",
    "\n",
    "cap = cv2.VideoCapture(0)\n",
    "faceCascade = cv2.CascadeClassifier('haarcascade_frontalface_default.xml')\n",
    "\n",
    "while True:\n",
    "    success,img = cap.read()\n",
    "    faces = faceCascade.detectMultiScale(img,1.2,4)\n",
    "    for (x, y, w, h) in faces:\n",
    "        # To make a face blurred\n",
    "        ROI = img[y:y+h, x:x+w]\n",
    "        blur = cv2.GaussianBlur(ROI, (91,91),0) \n",
    "        # Insert ROI back into image\n",
    "        img[y:y+h, x:x+w] = blur\n",
    "\n",
    "        # To make a bounding box #*(Not Necessary)\n",
    "        # cv2.rectangle(img,(x,y),(x+w,y+h),(0,255,0),4)\n",
    "    if faces==():\n",
    "        cv2.putText(img,'No Face Found!',(20,50),cv2.FONT_HERSHEY_COMPLEX,1,(0,0,255))\n",
    "    cv2.imshow('Face Blur',img)\n",
    "    if cv2.waitKey(1) & 0xff==ord('q'):\n",
    "        break\n",
    "# Turn camera off        \n",
    "cap.release()\n",
    "# Close camera window\n",
    "cv2.destroyAllWindows()\n"
   ]
  },
  {
   "cell_type": "code",
   "execution_count": null,
   "id": "2035a261",
   "metadata": {},
   "outputs": [],
   "source": []
  }
 ],
 "metadata": {
  "kernelspec": {
   "display_name": "Python 3 (ipykernel)",
   "language": "python",
   "name": "python3"
  },
  "language_info": {
   "codemirror_mode": {
    "name": "ipython",
    "version": 3
   },
   "file_extension": ".py",
   "mimetype": "text/x-python",
   "name": "python",
   "nbconvert_exporter": "python",
   "pygments_lexer": "ipython3",
   "version": "3.9.12"
  }
 },
 "nbformat": 4,
 "nbformat_minor": 5
}
