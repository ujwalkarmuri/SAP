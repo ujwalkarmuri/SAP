{
 "cells": [
  {
   "cell_type": "markdown",
   "metadata": {},
   "source": [
    "# Python\n",
    "## python variable\n",
    "## python data types\n",
    "## list, dictionaries, packages, numpy, slicing"
   ]
  },
  {
   "cell_type": "code",
   "execution_count": 1,
   "metadata": {},
   "outputs": [
    {
     "name": "stdout",
     "output_type": "stream",
     "text": [
      "Namaste Vadodara\n"
     ]
    }
   ],
   "source": [
    "#my first python program\n",
    "\n",
    "print(\"Namaste Vadodara\")"
   ]
  },
  {
   "cell_type": "code",
   "execution_count": 3,
   "metadata": {},
   "outputs": [
    {
     "name": "stdout",
     "output_type": "stream",
     "text": [
      "12\n",
      "200.5\n",
      "Intel\n",
      "True\n"
     ]
    }
   ],
   "source": [
    "#variable and data types\n",
    "\n",
    "var1 = 12  # delcare int value\n",
    "var2 = 200.50 #declare floating value\n",
    "var3 = \"Intel\" #declare string\n",
    "var4 = True #declare Character\n",
    "\n",
    "print (var1)\n",
    "print (var2)\n",
    "print (var3)\n",
    "print(var4)"
   ]
  },
  {
   "cell_type": "code",
   "execution_count": 4,
   "metadata": {},
   "outputs": [
    {
     "name": "stdout",
     "output_type": "stream",
     "text": [
      "<class 'int'>\n",
      "<class 'float'>\n",
      "<class 'str'>\n",
      "<class 'bool'>\n"
     ]
    }
   ],
   "source": [
    "#print the data types of variable\n",
    "print (type(var1))\n",
    "print (type(var2))\n",
    "print (type(var3))\n",
    "print (type(var4))\n"
   ]
  },
  {
   "cell_type": "code",
   "execution_count": 8,
   "metadata": {},
   "outputs": [],
   "source": [
    "var5 = var1/4\n",
    "var6 = var1 * var2\n",
    "\n",
    "\n"
   ]
  },
  {
   "cell_type": "code",
   "execution_count": 6,
   "metadata": {},
   "outputs": [
    {
     "name": "stdout",
     "output_type": "stream",
     "text": [
      "3.0\n",
      "2406.0\n"
     ]
    }
   ],
   "source": [
    "print(var5)\n",
    "print(var6)"
   ]
  },
  {
   "cell_type": "code",
   "execution_count": 7,
   "metadata": {},
   "outputs": [
    {
     "name": "stdout",
     "output_type": "stream",
     "text": [
      "Enter the value of x : 12\n",
      "Enter the value of y : 45\n",
      "540\n"
     ]
    }
   ],
   "source": [
    "#use input keyword to take input from user\n",
    "\n",
    "#aks user to enter the value and store it in varialbe x\n",
    "\n",
    "x = int(input(\"Enter the value of x : \"))\n",
    "\n",
    "#aks user to enter the value and store it in varialbe y\n",
    "\n",
    "y = int(input(\"Enter the value of y : \"))\n",
    "\n",
    "#perform multiplication of x and y and store answer in variable Z\n",
    "\n",
    "z = x*y\n",
    "\n",
    "#Print answer\n",
    "\n",
    "print(z)"
   ]
  },
  {
   "cell_type": "code",
   "execution_count": 13,
   "metadata": {},
   "outputs": [
    {
     "name": "stdout",
     "output_type": "stream",
     "text": [
      "PARUL \n",
      "<class 'str'>\n",
      "University\n",
      "<class 'str'>\n",
      "PARUL University\n"
     ]
    }
   ],
   "source": [
    "#string Concatenation\n",
    "\n",
    "str1 = \"PARUL \"\n",
    "print(str1)\n",
    "print(type(str1))\n",
    "\n",
    "str2 = \"University\"\n",
    "print(str2)\n",
    "print(type(str2))\n",
    "\n",
    "#concatenation of str1 and str2 and store in str3\n",
    "str3 = str1 + str2\n",
    "\n",
    "print(str3)"
   ]
  },
  {
   "cell_type": "code",
   "execution_count": null,
   "metadata": {},
   "outputs": [],
   "source": [
    "#string indexing and slicing\n",
    "\n",
    "   # U N I V E R S I T Y\n",
    "    \n",
    "    #0 1 2 3 4\n",
    "    \n",
    "    #-5 -4 -3 -2 -1"
   ]
  },
  {
   "cell_type": "raw",
   "metadata": {},
   "source": [
    "            \n",
    "            \n",
    "String                      U  N  I  V  E  R  S  I  T  Y\n",
    "            \n",
    "Slice from Front            0  1  2  3  4  5  6  7  8  9     Index from Front\n",
    "            \n",
    "Slice from rear           -10 -9 -8 -7 -6 -5 -4 -3 -2 -1     Index From rear "
   ]
  },
  {
   "cell_type": "code",
   "execution_count": 10,
   "metadata": {},
   "outputs": [
    {
     "name": "stdout",
     "output_type": "stream",
     "text": [
      "university\n",
      "10\n"
     ]
    }
   ],
   "source": [
    "name = \"university\"\n",
    "\n",
    "print(name)\n",
    "print(len(name))\n"
   ]
  },
  {
   "cell_type": "code",
   "execution_count": 11,
   "metadata": {},
   "outputs": [
    {
     "data": {
      "text/plain": [
       "'v'"
      ]
     },
     "execution_count": 11,
     "metadata": {},
     "output_type": "execute_result"
    }
   ],
   "source": [
    "name[3]"
   ]
  },
  {
   "cell_type": "code",
   "execution_count": 14,
   "metadata": {},
   "outputs": [
    {
     "data": {
      "text/plain": [
       "'nive'"
      ]
     },
     "execution_count": 14,
     "metadata": {},
     "output_type": "execute_result"
    }
   ],
   "source": [
    "name[1:5]"
   ]
  },
  {
   "cell_type": "code",
   "execution_count": 15,
   "metadata": {},
   "outputs": [
    {
     "data": {
      "text/plain": [
       "'univer'"
      ]
     },
     "execution_count": 15,
     "metadata": {},
     "output_type": "execute_result"
    }
   ],
   "source": [
    "name[:6]"
   ]
  },
  {
   "cell_type": "code",
   "execution_count": 17,
   "metadata": {},
   "outputs": [
    {
     "data": {
      "text/plain": [
       "'rsity'"
      ]
     },
     "execution_count": 17,
     "metadata": {},
     "output_type": "execute_result"
    }
   ],
   "source": [
    "name[5:]"
   ]
  },
  {
   "cell_type": "code",
   "execution_count": 20,
   "metadata": {},
   "outputs": [
    {
     "data": {
      "text/plain": [
       "'universit'"
      ]
     },
     "execution_count": 20,
     "metadata": {},
     "output_type": "execute_result"
    }
   ],
   "source": [
    "name[-10:-1]"
   ]
  },
  {
   "cell_type": "markdown",
   "metadata": {},
   "source": [
    "# Tuples in Python \n",
    "\n",
    "Tuples are used to store multiple items in a single variable.\n",
    "\n",
    "Tuple is one of 4 built-in data types in Python used to store collections of data, the other 3 are List, Set, and Dictionary, all with different qualities and usage.\n",
    "\n",
    "A tuple is a collection which is ordered and unchangeable.\n",
    "Foramt \n",
    "\n",
    "Tuple = (val1, val2, val2,....)"
   ]
  },
  {
   "cell_type": "code",
   "execution_count": 1,
   "metadata": {},
   "outputs": [
    {
     "name": "stdout",
     "output_type": "stream",
     "text": [
      "('parul', 22, 'Bharat', 45.5, 'vadodara', 99)\n",
      "<class 'tuple'>\n"
     ]
    }
   ],
   "source": [
    "#create tuples -\n",
    "\n",
    "tup1 = (\"parul\", 22, \"Bharat\", 45.5, \"vadodara\", 99)\n",
    "\n",
    "print(tup1)\n",
    "print(type(tup1))"
   ]
  },
  {
   "cell_type": "code",
   "execution_count": 24,
   "metadata": {},
   "outputs": [
    {
     "data": {
      "text/plain": [
       "'vadodara'"
      ]
     },
     "execution_count": 24,
     "metadata": {},
     "output_type": "execute_result"
    }
   ],
   "source": [
    "tup1[4]"
   ]
  },
  {
   "cell_type": "code",
   "execution_count": 25,
   "metadata": {},
   "outputs": [
    {
     "data": {
      "text/plain": [
       "('Bharat', 45.5)"
      ]
     },
     "execution_count": 25,
     "metadata": {},
     "output_type": "execute_result"
    }
   ],
   "source": [
    "tup1[2:4]"
   ]
  },
  {
   "cell_type": "code",
   "execution_count": 27,
   "metadata": {},
   "outputs": [
    {
     "name": "stdout",
     "output_type": "stream",
     "text": [
      "('parul', 22, 'Bharat', 45.5, 'vadodara', 99, 'python', 87)\n"
     ]
    }
   ],
   "source": [
    "tup2=(\"python\", 87)\n",
    "\n",
    "tup3 = tup1 + tup2\n",
    "print(tup3)"
   ]
  },
  {
   "cell_type": "code",
   "execution_count": 28,
   "metadata": {},
   "outputs": [
    {
     "ename": "TypeError",
     "evalue": "'tuple' object doesn't support item deletion",
     "output_type": "error",
     "traceback": [
      "\u001b[1;31m---------------------------------------------------------------------------\u001b[0m",
      "\u001b[1;31mTypeError\u001b[0m                                 Traceback (most recent call last)",
      "\u001b[1;32m<ipython-input-28-7e707514345f>\u001b[0m in \u001b[0;36m<module>\u001b[1;34m\u001b[0m\n\u001b[1;32m----> 1\u001b[1;33m \u001b[1;32mdel\u001b[0m \u001b[0mtup3\u001b[0m\u001b[1;33m[\u001b[0m\u001b[1;36m3\u001b[0m\u001b[1;33m]\u001b[0m\u001b[1;33m\u001b[0m\u001b[1;33m\u001b[0m\u001b[0m\n\u001b[0m\u001b[0;32m      2\u001b[0m \u001b[0mprint\u001b[0m\u001b[1;33m(\u001b[0m\u001b[0mtup3\u001b[0m\u001b[1;33m)\u001b[0m\u001b[1;33m\u001b[0m\u001b[1;33m\u001b[0m\u001b[0m\n",
      "\u001b[1;31mTypeError\u001b[0m: 'tuple' object doesn't support item deletion"
     ]
    }
   ],
   "source": [
    "#immutable \n",
    "\n",
    "del tup3[3]\n",
    "print(tup3)"
   ]
  },
  {
   "cell_type": "markdown",
   "metadata": {},
   "source": [
    "# List in Python\n",
    "Lists are used to store multiple items in a single variable.\n",
    "\n",
    "Lists are one of 4 built-in data types in Python used to store collections of data, the other 3 are Tuple, Set, and Dictionary, all with different qualities and usage.\n",
    "\n",
    "Lists are created using square brackets:\n",
    "\n",
    "List Items\n",
    "\n",
    "List items are ordered, changeable, and allow duplicate values.\n",
    "\n",
    "List items are indexed, the first item has index [0], the second item has index [1] etc."
   ]
  },
  {
   "cell_type": "code",
   "execution_count": 30,
   "metadata": {},
   "outputs": [
    {
     "name": "stdout",
     "output_type": "stream",
     "text": [
      "<class 'list'>\n"
     ]
    }
   ],
   "source": [
    "#create list\n",
    "\n",
    "\n",
    "\n",
    "lst1 = [\"parul\", 22, \"Bharat\", 45.5, \"vadodara\", 99]\n",
    "lst1\n",
    "\n",
    "print(type(lst1))"
   ]
  },
  {
   "cell_type": "code",
   "execution_count": 31,
   "metadata": {},
   "outputs": [
    {
     "data": {
      "text/plain": [
       "45.5"
      ]
     },
     "execution_count": 31,
     "metadata": {},
     "output_type": "execute_result"
    }
   ],
   "source": [
    "lst1[3]"
   ]
  },
  {
   "cell_type": "code",
   "execution_count": 32,
   "metadata": {},
   "outputs": [
    {
     "data": {
      "text/plain": [
       "6"
      ]
     },
     "execution_count": 32,
     "metadata": {},
     "output_type": "execute_result"
    }
   ],
   "source": [
    "len(lst1)"
   ]
  },
  {
   "cell_type": "code",
   "execution_count": 33,
   "metadata": {},
   "outputs": [],
   "source": [
    "lst1.remove(22)"
   ]
  },
  {
   "cell_type": "code",
   "execution_count": 34,
   "metadata": {},
   "outputs": [
    {
     "data": {
      "text/plain": [
       "['parul', 'Bharat', 45.5, 'vadodara', 99]"
      ]
     },
     "execution_count": 34,
     "metadata": {},
     "output_type": "execute_result"
    }
   ],
   "source": [
    "lst1\n"
   ]
  },
  {
   "cell_type": "code",
   "execution_count": 36,
   "metadata": {},
   "outputs": [
    {
     "data": {
      "text/plain": [
       "['Bharat', 45.5, 'vadodara', 99]"
      ]
     },
     "execution_count": 36,
     "metadata": {},
     "output_type": "execute_result"
    }
   ],
   "source": [
    "del lst1[0]\n",
    "lst1"
   ]
  },
  {
   "cell_type": "markdown",
   "metadata": {},
   "source": [
    "# Disctionary\n",
    "Dictionaries are used to store data values in key:value pairs.\n",
    "Dictionaries are written with curly brackets, and have keys and values:"
   ]
  },
  {
   "cell_type": "code",
   "execution_count": 5,
   "metadata": {},
   "outputs": [
    {
     "name": "stdout",
     "output_type": "stream",
     "text": [
      "{'University': 'Parul', 'Course': 'Artificial Intelligence', 'Branch': 'Electronics'}\n",
      "{1: 'Parul', 2: 'Artificial Intelligence', 3: 'Electronics'}\n",
      "dict_keys([1, 2, 3])\n",
      "dict_values(['Parul', 'Artificial Intelligence', 'Electronics'])\n",
      "{'one': 'This is an value of Key ONE', 2: 'This is TWO '}\n"
     ]
    }
   ],
   "source": [
    "dict1 = { \"University\" : \"Parul\", \"Course\" : \"Artificial Intelligence\", \"Branch\": \"Electronics\"}\n",
    "print(dict1)\n",
    "\n",
    "dict2 = { 1 : \"Parul\", 2 : \"Artificial Intelligence\", 3: \"Electronics\"}\n",
    "print(dict2)\n",
    "\n",
    "#print only key values\n",
    "print(dict2.keys())\n",
    "\n",
    "#print only values\n",
    "print(dict2.values())\n",
    "\n",
    "# create dictionary with single value\n",
    "dict3 = {}\n",
    "dict3 ['one'] = \"This is an value of Key ONE\"\n",
    "dict3 [2] = \"This is TWO \"\n",
    "print(dict3)\n"
   ]
  },
  {
   "cell_type": "code",
   "execution_count": 17,
   "metadata": {},
   "outputs": [
    {
     "name": "stdout",
     "output_type": "stream",
     "text": [
      "3\n",
      "<class 'dict'>\n"
     ]
    }
   ],
   "source": [
    "print(len(dict1))\n",
    "print(type(dict1))\n"
   ]
  },
  {
   "cell_type": "code",
   "execution_count": 29,
   "metadata": {},
   "outputs": [
    {
     "name": "stdout",
     "output_type": "stream",
     "text": [
      "Parul\n"
     ]
    },
    {
     "data": {
      "text/plain": [
       "'Artificial Intelligence'"
      ]
     },
     "execution_count": 29,
     "metadata": {},
     "output_type": "execute_result"
    }
   ],
   "source": [
    "x=dict1['University']\n",
    "print(x)\n",
    "\n",
    "y = dict2[2]\n",
    "y"
   ]
  },
  {
   "cell_type": "code",
   "execution_count": 21,
   "metadata": {},
   "outputs": [
    {
     "data": {
      "text/plain": [
       "3.141592653589793"
      ]
     },
     "execution_count": 21,
     "metadata": {},
     "output_type": "execute_result"
    }
   ],
   "source": [
    "from math import pi\n",
    "pi"
   ]
  },
  {
   "cell_type": "code",
   "execution_count": 39,
   "metadata": {},
   "outputs": [
    {
     "name": "stdout",
     "output_type": "stream",
     "text": [
      "78.53981633974483\n"
     ]
    }
   ],
   "source": [
    "#find the area of circle\n",
    "\n",
    "r = 5\n",
    "area = pi*r*r\n",
    "\n",
    "print(area)"
   ]
  },
  {
   "cell_type": "code",
   "execution_count": 41,
   "metadata": {},
   "outputs": [
    {
     "name": "stdout",
     "output_type": "stream",
     "text": [
      "0\n",
      "1\n",
      "2\n",
      "3\n",
      "4\n",
      "5\n",
      "6\n",
      "7\n",
      "8\n",
      "9\n"
     ]
    }
   ],
   "source": [
    "for i in range(10):\n",
    "    print(i)"
   ]
  },
  {
   "cell_type": "code",
   "execution_count": 1,
   "metadata": {},
   "outputs": [
    {
     "name": "stdout",
     "output_type": "stream",
     "text": [
      "select operation\n",
      "1. Add\n",
      "2. Subtract\n",
      "3. Multiply\n",
      "4. Divide\n",
      "Enter choice (1/2/3/4): 2\n",
      "Enter the first number: 34\n",
      "Enter the second number: 56\n",
      "34 - 56 -22\n"
     ]
    }
   ],
   "source": [
    "#program to make simple calculator that can add, substract, mul, division\n",
    "\n",
    "#this function adds two numbers\n",
    "def add(x,y):\n",
    "    return x+y\n",
    "\n",
    "#this function subtract two numbers\n",
    "def subtract(x,y):\n",
    "    return x-y\n",
    "\n",
    "#this function multiplies two numbers\n",
    "def multiply(x,y):\n",
    "    return x*y\n",
    "\n",
    "#this function division two numbers\n",
    "def divide(x,y):\n",
    "    return x/y\n",
    "\n",
    "print(\"select operation\")\n",
    "print(\"1. Add\")\n",
    "print(\"2. Subtract\")\n",
    "print(\"3. Multiply\")\n",
    "print(\"4. Divide\")\n",
    "\n",
    "choice = input(\"Enter choice (1/2/3/4): \")\n",
    "\n",
    "num1 = int(input(\"Enter the first number: \"))\n",
    "num2 = int(input(\"Enter the second number: \"))\n",
    "\n",
    "if choice == '1':\n",
    "    print(num1, \"+\",num2, add(num1,num2))\n",
    "\n",
    "elif choice == '2':\n",
    "    print(num1, \"-\",num2, subtract(num1,num2))\n",
    "    \n",
    "elif choice == '3':\n",
    "    print(num1, \"*\",num2, multiply(num1,num2))\n",
    "    \n",
    "elif choice == '4':\n",
    "    print(num1, \"/\",num2, divide(num1,num2))\n",
    "    \n",
    "else:\n",
    "    print(\"Invalid Input\")\n",
    "\n",
    "\n"
   ]
  },
  {
   "cell_type": "code",
   "execution_count": 44,
   "metadata": {},
   "outputs": [
    {
     "data": {
      "text/plain": [
       "list"
      ]
     },
     "execution_count": 44,
     "metadata": {},
     "output_type": "execute_result"
    }
   ],
   "source": [
    "list\n"
   ]
  },
  {
   "cell_type": "code",
   "execution_count": null,
   "metadata": {},
   "outputs": [],
   "source": [
    "!pip install <package name>\n",
    "!conda install < package name>\n",
    "\n",
    "\n"
   ]
  },
  {
   "cell_type": "markdown",
   "metadata": {},
   "source": [
    "# Python Conditional Statement"
   ]
  },
  {
   "cell_type": "code",
   "execution_count": 2,
   "metadata": {},
   "outputs": [
    {
     "name": "stdout",
     "output_type": "stream",
     "text": [
      "5 is a Positive Number\n",
      "This statement is true\n"
     ]
    }
   ],
   "source": [
    "#If statement\n",
    "\n",
    "num= 5\n",
    "if num > 0:\n",
    "    print(num, \"is a Positive Number\")\n",
    "print(\"This statement is true\")"
   ]
  },
  {
   "cell_type": "code",
   "execution_count": 5,
   "metadata": {},
   "outputs": [
    {
     "name": "stdout",
     "output_type": "stream",
     "text": [
      "5 is a Positive Number\n"
     ]
    }
   ],
   "source": [
    "#if else statement\n",
    "\n",
    "num= 5\n",
    "if num > 0:\n",
    "    print(num, \"is a Positive Number\")\n",
    "else:\n",
    "    print(\"Negetive Number\")\n",
    "    "
   ]
  },
  {
   "cell_type": "code",
   "execution_count": 6,
   "metadata": {},
   "outputs": [
    {
     "name": "stdout",
     "output_type": "stream",
     "text": [
      "Positive number\n"
     ]
    }
   ],
   "source": [
    "#nested if\n",
    "\n",
    "num= 5\n",
    "if num >= 0:\n",
    "    if num == 0:\n",
    "        print(\"Zero\")\n",
    "    else:\n",
    "        print(\"Positive number\")\n",
    "else:\n",
    "    print(\"Negetive Number\")\n",
    "    \n",
    "\n",
    "    print(\"Negetive Number\")"
   ]
  },
  {
   "cell_type": "code",
   "execution_count": null,
   "metadata": {},
   "outputs": [],
   "source": []
  }
 ],
 "metadata": {
  "kernelspec": {
   "display_name": "Python 3",
   "language": "python",
   "name": "python3"
  },
  "language_info": {
   "codemirror_mode": {
    "name": "ipython",
    "version": 3
   },
   "file_extension": ".py",
   "mimetype": "text/x-python",
   "name": "python",
   "nbconvert_exporter": "python",
   "pygments_lexer": "ipython3",
   "version": "3.8.5"
  }
 },
 "nbformat": 4,
 "nbformat_minor": 4
}
